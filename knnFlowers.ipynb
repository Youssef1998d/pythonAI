{
 "cells": [
  {
   "cell_type": "code",
   "execution_count": 48,
   "metadata": {},
   "outputs": [],
   "source": [
    "import csv\n",
    "import random\n",
    "def reader(filename, split):\n",
    "    with open(filename, 'r') as csvfile:\n",
    "        lines = csv.reader(csvfile)\n",
    "        dataset = list(lines)\n",
    "        for i in range(len(dataset)-1):\n",
    "            for j in range(4):\n",
    "                dataset[i][j]=float(dataset[i][j])\n",
    "        rows = int(split*len(dataset))\n",
    "        used=[]\n",
    "        index=-1\n",
    "        trainingSet, testSet = [], []\n",
    "        while len(trainingSet)<rows:\n",
    "            index = random.randint(0, rows)\n",
    "            if index not in used:\n",
    "                used.append(index)\n",
    "                trainingSet.append(dataset[index])\n",
    "        while len(testSet)<(len(dataset)-rows):\n",
    "            index = random.randint(0, len(dataset)-1)\n",
    "            if index not in used:\n",
    "                testSet.append(dataset[index])\n",
    "                used.append(index)\n",
    "    return trainingSet, testSet"
   ]
  },
  {
   "cell_type": "code",
   "execution_count": 49,
   "metadata": {},
   "outputs": [],
   "source": [
    "import math\n",
    "def distance(d1, d2, l, metric='euc', q=2):\n",
    "    if metric=='euc':\n",
    "        return math.sqrt(sum([pow(d1[i]-d2[i], 2) for i in range(l)]))\n",
    "    elif metric=='man':\n",
    "        return sum([math.abs(d1[i]-d2[i]) for i in range(l)])\n",
    "    elif metric==\"min\":\n",
    "        return pow(sum([pow(math.abs(d1[i]-d2[i]), q) for i in range(l)]), 1/q)"
   ]
  },
  {
   "cell_type": "code",
   "execution_count": 50,
   "metadata": {},
   "outputs": [],
   "source": [
    "import operator\n",
    "\n",
    "def getNeighbors(trainingSet, testInstance, k, metric):\n",
    "    distances = []\n",
    "    length = len(testInstance)-1\n",
    "    for x in range(len(trainingSet)):\n",
    "        dist = distance(testInstance, trainingSet[x], length, metric)\n",
    "        distances.append((trainingSet[x], dist))\n",
    "    distances.sort(key=operator.itemgetter(1))\n",
    "    neighbors = []\n",
    "    for x in range(k):\n",
    "        neighbors.append(distances[x][0])\n",
    "    return neighbors"
   ]
  },
  {
   "cell_type": "code",
   "execution_count": 51,
   "metadata": {},
   "outputs": [],
   "source": [
    "import operator\n",
    "\n",
    "def getResponse(neighbors):\n",
    "    classVotes={}\n",
    "    for x in range(len(neighbors)):\n",
    "        response = neighbors[x][-1]\n",
    "        if response in classVotes:\n",
    "            classVotes[response] += 1\n",
    "        else:\n",
    "            classVotes[response] = 1\n",
    "    sortedVotes = sorted(classVotes.items(), key=operator.itemgetter(1), reverse=True)\n",
    "    return sortedVotes[0][0]"
   ]
  },
  {
   "cell_type": "code",
   "execution_count": 52,
   "metadata": {},
   "outputs": [],
   "source": [
    "def getAccuracy(test, pred):\n",
    "    correct = 0\n",
    "    for i in range(len(test)):\n",
    "        if test[i][-1]==pred[i]:\n",
    "            correct += 1 \n",
    "    return 100.0*(correct/float(len(test)))"
   ]
  },
  {
   "cell_type": "code",
   "execution_count": 53,
   "metadata": {},
   "outputs": [],
   "source": [
    "def main(filename, split, new, k, metric=\"man\"):\n",
    "    trainingSet, testSet = reader(filename, split)\n",
    "    neighbors = getNeighbors(trainingSet, new, k)\n",
    "    return getResponse(neighbors)"
   ]
  },
  {
   "cell_type": "code",
   "execution_count": 42,
   "metadata": {},
   "outputs": [
    {
     "name": "stdout",
     "output_type": "stream",
     "text": [
      "3.0\n"
     ]
    }
   ],
   "source": []
  },
  {
   "cell_type": "code",
   "execution_count": null,
   "metadata": {},
   "outputs": [],
   "source": []
  }
 ],
 "metadata": {
  "kernelspec": {
   "display_name": "Python 3",
   "language": "python",
   "name": "python3"
  },
  "language_info": {
   "codemirror_mode": {
    "name": "ipython",
    "version": 3
   },
   "file_extension": ".py",
   "mimetype": "text/x-python",
   "name": "python",
   "nbconvert_exporter": "python",
   "pygments_lexer": "ipython3",
   "version": "3.8.5"
  }
 },
 "nbformat": 4,
 "nbformat_minor": 4
}
